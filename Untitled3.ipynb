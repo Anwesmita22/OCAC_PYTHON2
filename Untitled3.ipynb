{
 "cells": [
  {
   "cell_type": "code",
   "execution_count": 1,
   "id": "0df9ae25-3b7b-4116-8f36-6a2b91c57f84",
   "metadata": {},
   "outputs": [
    {
     "name": "stdin",
     "output_type": "stream",
     "text": [
      " 6\n"
     ]
    },
    {
     "data": {
      "text/plain": [
       "'6'"
      ]
     },
     "execution_count": 1,
     "metadata": {},
     "output_type": "execute_result"
    }
   ],
   "source": [
    "n=input()\n",
    "n"
   ]
  },
  {
   "cell_type": "code",
   "execution_count": 2,
   "id": "3dc4d4ac-8a0b-4aa9-bb5e-373fdb0239f7",
   "metadata": {},
   "outputs": [
    {
     "data": {
      "text/plain": [
       "str"
      ]
     },
     "execution_count": 2,
     "metadata": {},
     "output_type": "execute_result"
    }
   ],
   "source": [
    "type(n)"
   ]
  },
  {
   "cell_type": "code",
   "execution_count": 3,
   "id": "4c7f5c2f-4d86-4f63-b9d3-3fa40fb5cdcb",
   "metadata": {},
   "outputs": [
    {
     "name": "stdin",
     "output_type": "stream",
     "text": [
      " kitty\n"
     ]
    },
    {
     "data": {
      "text/plain": [
       "'kitty'"
      ]
     },
     "execution_count": 3,
     "metadata": {},
     "output_type": "execute_result"
    }
   ],
   "source": [
    "n=input()\n",
    "n"
   ]
  },
  {
   "cell_type": "code",
   "execution_count": 4,
   "id": "cfbfbf4c-0c68-41e0-abf1-5c973caf97a2",
   "metadata": {},
   "outputs": [
    {
     "name": "stdin",
     "output_type": "stream",
     "text": [
      "enter your age: 20\n"
     ]
    },
    {
     "data": {
      "text/plain": [
       "'20'"
      ]
     },
     "execution_count": 4,
     "metadata": {},
     "output_type": "execute_result"
    }
   ],
   "source": [
    "n1=input(\"enter your age:\")\n",
    "n1"
   ]
  },
  {
   "cell_type": "code",
   "execution_count": 5,
   "id": "4ef9a8ff-5b5f-4aab-97ee-52095f805526",
   "metadata": {},
   "outputs": [
    {
     "data": {
      "text/plain": [
       "str"
      ]
     },
     "execution_count": 5,
     "metadata": {},
     "output_type": "execute_result"
    }
   ],
   "source": [
    "type(n1)"
   ]
  },
  {
   "cell_type": "code",
   "execution_count": 8,
   "id": "459c4731-8c7a-4d5f-84c8-cbcd9f0d95b8",
   "metadata": {},
   "outputs": [
    {
     "name": "stdin",
     "output_type": "stream",
     "text": [
      "enter your age: 21\n"
     ]
    },
    {
     "data": {
      "text/plain": [
       "21.0"
      ]
     },
     "execution_count": 8,
     "metadata": {},
     "output_type": "execute_result"
    }
   ],
   "source": [
    "n=float(input(\"enter your age:\"))\n",
    "n"
   ]
  },
  {
   "cell_type": "code",
   "execution_count": 11,
   "id": "1f00c050-eb95-42ed-a9fa-7b7984eab4eb",
   "metadata": {},
   "outputs": [
    {
     "name": "stdin",
     "output_type": "stream",
     "text": [
      "What is your name?  kitty\n"
     ]
    },
    {
     "name": "stdout",
     "output_type": "stream",
     "text": [
      "It was nice talking you kitty!\n"
     ]
    }
   ],
   "source": [
    "# let's have one more example\n",
    "name = input(\"What is your name? \")\n",
    "print(\"It was nice talking you \" + name + \"!\")"
   ]
  },
  {
   "cell_type": "code",
   "execution_count": 12,
   "id": "c6c7b970-bf69-4d84-9849-c38ccaaecd26",
   "metadata": {},
   "outputs": [
    {
     "name": "stdin",
     "output_type": "stream",
     "text": [
      "enter your age?  21\n"
     ]
    },
    {
     "name": "stdout",
     "output_type": "stream",
     "text": [
      "Hey,you are already 21 years old, kitty!\n"
     ]
    }
   ],
   "source": [
    "age = input(\"enter your age? \")\n",
    "print(\"Hey,you are already \" + age + \" years old, \" + name + \"!\")"
   ]
  },
  {
   "cell_type": "code",
   "execution_count": 14,
   "id": "cbc72e39-bd0e-4b7d-8ea9-b30f9507a953",
   "metadata": {},
   "outputs": [
    {
     "name": "stdin",
     "output_type": "stream",
     "text": [
      "enter your name:  kitty anwesmita\n"
     ]
    },
    {
     "name": "stdout",
     "output_type": "stream",
     "text": [
      "kitty\n",
      "anwesmita\n"
     ]
    }
   ],
   "source": [
    "# multiple inputs in a single entry\n",
    "var_1,var_2 = input(\"enter your name: \").split(\" \")\n",
    "print(var_1)\n",
    "print(var_2)"
   ]
  },
  {
   "cell_type": "code",
   "execution_count": 1,
   "id": "cd48e0b0-1ae4-4780-a831-6da2e5edcdc3",
   "metadata": {},
   "outputs": [
    {
     "data": {
      "text/plain": [
       "int"
      ]
     },
     "execution_count": 1,
     "metadata": {},
     "output_type": "execute_result"
    }
   ],
   "source": [
    "a=15\n",
    "# To check type : use type()\n",
    "type(a)"
   ]
  },
  {
   "cell_type": "code",
   "execution_count": 2,
   "id": "d727c7e3-b4a9-473c-b1f4-1c449304fa34",
   "metadata": {},
   "outputs": [
    {
     "data": {
      "text/plain": [
       "float"
      ]
     },
     "execution_count": 2,
     "metadata": {},
     "output_type": "execute_result"
    }
   ],
   "source": [
    "a=23.0\n",
    "type(a)"
   ]
  },
  {
   "cell_type": "code",
   "execution_count": 3,
   "id": "c4e43f21-2d95-4a37-b46c-c757c64e71bf",
   "metadata": {},
   "outputs": [
    {
     "name": "stdout",
     "output_type": "stream",
     "text": [
      "<class 'int'>\n",
      "<class 'float'>\n"
     ]
    }
   ],
   "source": [
    "a=5\n",
    "print(type(a))\n",
    "\n",
    "b=5.0\n",
    "print(type(b))"
   ]
  },
  {
   "cell_type": "code",
   "execution_count": 4,
   "id": "ba73d701-945b-4519-91ba-b49178bf2578",
   "metadata": {},
   "outputs": [
    {
     "data": {
      "text/plain": [
       "11.0"
      ]
     },
     "execution_count": 4,
     "metadata": {},
     "output_type": "execute_result"
    }
   ],
   "source": [
    "a=5\n",
    "b=6.0\n",
    "a+b"
   ]
  },
  {
   "cell_type": "code",
   "execution_count": 5,
   "id": "9b3e7f96-cea2-4a98-88d2-fa6ebe444459",
   "metadata": {},
   "outputs": [
    {
     "data": {
      "text/plain": [
       "4"
      ]
     },
     "execution_count": 5,
     "metadata": {},
     "output_type": "execute_result"
    }
   ],
   "source": [
    "b=4.6\n",
    "int(b)"
   ]
  },
  {
   "cell_type": "code",
   "execution_count": 6,
   "id": "b1aea072-2b3d-4c7c-9f91-ad57c23e5524",
   "metadata": {},
   "outputs": [
    {
     "data": {
      "text/plain": [
       "39"
      ]
     },
     "execution_count": 6,
     "metadata": {},
     "output_type": "execute_result"
    }
   ],
   "source": [
    "int(39.9999)"
   ]
  },
  {
   "cell_type": "code",
   "execution_count": 7,
   "id": "9928399c-4f15-4ebe-9211-40bd218208af",
   "metadata": {},
   "outputs": [
    {
     "data": {
      "text/plain": [
       "bool"
      ]
     },
     "execution_count": 7,
     "metadata": {},
     "output_type": "execute_result"
    }
   ],
   "source": [
    "b1=True\n",
    "type(b1)"
   ]
  },
  {
   "cell_type": "code",
   "execution_count": 8,
   "id": "09974a74-a9dd-4570-9c83-ca3d212f6389",
   "metadata": {},
   "outputs": [
    {
     "data": {
      "text/plain": [
       "bool"
      ]
     },
     "execution_count": 8,
     "metadata": {},
     "output_type": "execute_result"
    }
   ],
   "source": [
    "type(True)"
   ]
  },
  {
   "cell_type": "code",
   "execution_count": 9,
   "id": "206feaab-0a11-47a2-9f33-99f6aac0cd88",
   "metadata": {},
   "outputs": [
    {
     "data": {
      "text/plain": [
       "bool"
      ]
     },
     "execution_count": 9,
     "metadata": {},
     "output_type": "execute_result"
    }
   ],
   "source": [
    "type(False)"
   ]
  },
  {
   "cell_type": "code",
   "execution_count": 10,
   "id": "343591c7-824b-4854-96b2-a05711ed6a76",
   "metadata": {},
   "outputs": [
    {
     "data": {
      "text/plain": [
       "1"
      ]
     },
     "execution_count": 10,
     "metadata": {},
     "output_type": "execute_result"
    }
   ],
   "source": [
    "int(True)"
   ]
  },
  {
   "cell_type": "code",
   "execution_count": 11,
   "id": "d184f286-194f-417f-a630-1f3f7e8e9d10",
   "metadata": {},
   "outputs": [
    {
     "data": {
      "text/plain": [
       "0"
      ]
     },
     "execution_count": 11,
     "metadata": {},
     "output_type": "execute_result"
    }
   ],
   "source": [
    "int(False)"
   ]
  },
  {
   "cell_type": "code",
   "execution_count": 13,
   "id": "01f300bd-9390-4218-baad-53d0814a1fbd",
   "metadata": {},
   "outputs": [
    {
     "data": {
      "text/plain": [
       "2"
      ]
     },
     "execution_count": 13,
     "metadata": {},
     "output_type": "execute_result"
    }
   ],
   "source": [
    "True+True"
   ]
  },
  {
   "cell_type": "code",
   "execution_count": 14,
   "id": "720336f6-2611-4982-a46e-c373bb5e9942",
   "metadata": {},
   "outputs": [
    {
     "data": {
      "text/plain": [
       "5.9"
      ]
     },
     "execution_count": 14,
     "metadata": {},
     "output_type": "execute_result"
    }
   ],
   "source": [
    "b=5.9\n",
    "c=False\n",
    "b+c"
   ]
  },
  {
   "cell_type": "code",
   "execution_count": 15,
   "id": "6514b1a8-5e66-43a7-92f1-d3d46d201c16",
   "metadata": {},
   "outputs": [],
   "source": [
    "x=10+20j"
   ]
  },
  {
   "cell_type": "code",
   "execution_count": 16,
   "id": "6f3153ec-09ae-4448-9c5d-97d1907c312c",
   "metadata": {},
   "outputs": [
    {
     "data": {
      "text/plain": [
       "complex"
      ]
     },
     "execution_count": 16,
     "metadata": {},
     "output_type": "execute_result"
    }
   ],
   "source": [
    "type(x)"
   ]
  },
  {
   "cell_type": "code",
   "execution_count": 17,
   "id": "6d2ac22e-a550-4b94-8a5d-784b0e5cb573",
   "metadata": {},
   "outputs": [
    {
     "data": {
      "text/plain": [
       "10.0"
      ]
     },
     "execution_count": 17,
     "metadata": {},
     "output_type": "execute_result"
    }
   ],
   "source": [
    "x.real"
   ]
  },
  {
   "cell_type": "code",
   "execution_count": 19,
   "id": "a0ac8fdb-a7d1-4627-89b9-523b14c16892",
   "metadata": {},
   "outputs": [
    {
     "data": {
      "text/plain": [
       "20.0"
      ]
     },
     "execution_count": 19,
     "metadata": {},
     "output_type": "execute_result"
    }
   ],
   "source": [
    "x.imag"
   ]
  },
  {
   "cell_type": "code",
   "execution_count": 20,
   "id": "2aa062c6-547f-41e5-acf6-14fc95adf347",
   "metadata": {},
   "outputs": [
    {
     "name": "stdout",
     "output_type": "stream",
     "text": [
      "3.0 -3.0\n"
     ]
    }
   ],
   "source": [
    "y=3.0-3.0j\n",
    "print(y.real,y.imag)"
   ]
  },
  {
   "cell_type": "code",
   "execution_count": 21,
   "id": "abeca7bd-6ebf-4089-9259-834bc1994ea2",
   "metadata": {},
   "outputs": [
    {
     "name": "stdout",
     "output_type": "stream",
     "text": [
      "Hello\n",
      "Hello\n",
      "Hello\n"
     ]
    }
   ],
   "source": [
    "myString1='Hello'\n",
    "print(myString1)\n",
    "\n",
    "myString2=\"Hello\"\n",
    "print(myString2)\n",
    "\n",
    "myString3='''Hello'''\n",
    "print(myString3)"
   ]
  },
  {
   "cell_type": "code",
   "execution_count": 22,
   "id": "65fa4d4e-a673-494a-8ba1-99e54446acc4",
   "metadata": {},
   "outputs": [
    {
     "name": "stdout",
     "output_type": "stream",
     "text": [
      "kitty \"laptop\" \n"
     ]
    }
   ],
   "source": [
    "print('kitty \"laptop\" ')"
   ]
  },
  {
   "cell_type": "code",
   "execution_count": 23,
   "id": "d909b0bd-b3c0-41a9-a5c1-14d821e5594f",
   "metadata": {},
   "outputs": [
    {
     "ename": "SyntaxError",
     "evalue": "unterminated string literal (detected at line 1) (518139587.py, line 1)",
     "output_type": "error",
     "traceback": [
      "\u001b[1;36m  Cell \u001b[1;32mIn[23], line 1\u001b[1;36m\u001b[0m\n\u001b[1;33m    print('kitty's \"laptop\" ')\u001b[0m\n\u001b[1;37m                            ^\u001b[0m\n\u001b[1;31mSyntaxError\u001b[0m\u001b[1;31m:\u001b[0m unterminated string literal (detected at line 1)\n"
     ]
    }
   ],
   "source": [
    "print('kitty's \"laptop\" ')"
   ]
  },
  {
   "cell_type": "code",
   "execution_count": 24,
   "id": "0580a86f-8f2c-4dc7-9648-f52055f88fa3",
   "metadata": {},
   "outputs": [
    {
     "name": "stdout",
     "output_type": "stream",
     "text": [
      "kitty's \"laptop\" \n"
     ]
    }
   ],
   "source": [
    "print('kitty\\'s \"laptop\" ')"
   ]
  },
  {
   "cell_type": "code",
   "execution_count": 25,
   "id": "a4585851-0317-46da-9652-06a588a444be",
   "metadata": {},
   "outputs": [
    {
     "data": {
      "text/plain": [
       "'405'"
      ]
     },
     "execution_count": 25,
     "metadata": {},
     "output_type": "execute_result"
    }
   ],
   "source": [
    "a=\"40\"\n",
    "b=\"5\"\n",
    "\n",
    "#concatenation of 2 strings\n",
    "a+b"
   ]
  },
  {
   "cell_type": "code",
   "execution_count": 26,
   "id": "6ffc4e27-d11e-47c9-b303-7d8f599f234b",
   "metadata": {},
   "outputs": [
    {
     "data": {
      "text/plain": [
       "405"
      ]
     },
     "execution_count": 26,
     "metadata": {},
     "output_type": "execute_result"
    }
   ],
   "source": [
    "int(a+b)"
   ]
  },
  {
   "cell_type": "code",
   "execution_count": 27,
   "id": "518abc2e-7694-40ce-b288-a67b2accbd10",
   "metadata": {},
   "outputs": [
    {
     "data": {
      "text/plain": [
       "45"
      ]
     },
     "execution_count": 27,
     "metadata": {},
     "output_type": "execute_result"
    }
   ],
   "source": [
    "int(a)+int(b)"
   ]
  },
  {
   "cell_type": "code",
   "execution_count": 28,
   "id": "d1b6ae96-6bc0-4492-8692-d6c4d39a2aec",
   "metadata": {},
   "outputs": [
    {
     "ename": "TypeError",
     "evalue": "unsupported operand type(s) for +: 'int' and 'str'",
     "output_type": "error",
     "traceback": [
      "\u001b[1;31m---------------------------------------------------------------------------\u001b[0m",
      "\u001b[1;31mTypeError\u001b[0m                                 Traceback (most recent call last)",
      "Cell \u001b[1;32mIn[28], line 3\u001b[0m\n\u001b[0;32m      1\u001b[0m d\u001b[38;5;241m=\u001b[39m\u001b[38;5;124m'\u001b[39m\u001b[38;5;124m4\u001b[39m\u001b[38;5;124m'\u001b[39m\n\u001b[0;32m      2\u001b[0m a\u001b[38;5;241m=\u001b[39m\u001b[38;5;241m7\u001b[39m\n\u001b[1;32m----> 3\u001b[0m a\u001b[38;5;241m+\u001b[39md\n",
      "\u001b[1;31mTypeError\u001b[0m: unsupported operand type(s) for +: 'int' and 'str'"
     ]
    }
   ],
   "source": [
    "d='4'\n",
    "a=7\n",
    "a+d"
   ]
  },
  {
   "cell_type": "code",
   "execution_count": 29,
   "id": "8b2001cc-d153-4f71-8e56-9b96d12d474c",
   "metadata": {},
   "outputs": [
    {
     "data": {
      "text/plain": [
       "11"
      ]
     },
     "execution_count": 29,
     "metadata": {},
     "output_type": "execute_result"
    }
   ],
   "source": [
    "int(d)+a"
   ]
  },
  {
   "cell_type": "code",
   "execution_count": 30,
   "id": "3771e96f-0f73-44d0-98bd-e4fce0e1c5c0",
   "metadata": {},
   "outputs": [
    {
     "data": {
      "text/plain": [
       "47"
      ]
     },
     "execution_count": 30,
     "metadata": {},
     "output_type": "execute_result"
    }
   ],
   "source": [
    "int(d+str(a))"
   ]
  },
  {
   "cell_type": "code",
   "execution_count": 31,
   "id": "b916ac5a-68ac-4f46-b01c-537c97e678fe",
   "metadata": {},
   "outputs": [],
   "source": [
    "a=\"kitty\"\n",
    "b=234"
   ]
  },
  {
   "cell_type": "code",
   "execution_count": 32,
   "id": "29491744-5b0e-42c6-b3da-bd6c32873f1f",
   "metadata": {},
   "outputs": [
    {
     "name": "stdout",
     "output_type": "stream",
     "text": [
      "kitty234\n"
     ]
    }
   ],
   "source": [
    "print(a+str(b))"
   ]
  },
  {
   "cell_type": "code",
   "execution_count": 33,
   "id": "c6d706e9-5da4-4661-ab97-6c29b2685530",
   "metadata": {},
   "outputs": [
    {
     "data": {
      "text/plain": [
       "'kittykitty'"
      ]
     },
     "execution_count": 33,
     "metadata": {},
     "output_type": "execute_result"
    }
   ],
   "source": [
    "'kitty' + 'kitty'"
   ]
  },
  {
   "cell_type": "code",
   "execution_count": 34,
   "id": "30b3d0bf-64f1-430e-ac1b-fca95fa7218d",
   "metadata": {},
   "outputs": [
    {
     "data": {
      "text/plain": [
       "'sweetysweetysweety'"
      ]
     },
     "execution_count": 34,
     "metadata": {},
     "output_type": "execute_result"
    }
   ],
   "source": [
    "\"sweety\" *3"
   ]
  },
  {
   "cell_type": "code",
   "execution_count": 35,
   "id": "8424159c-7e6d-4e1a-9807-ffed2c12affa",
   "metadata": {},
   "outputs": [],
   "source": [
    "user = \"isu\"\n",
    "lines = 50"
   ]
  },
  {
   "cell_type": "code",
   "execution_count": 36,
   "id": "ee706379-05f8-4762-b923-92241f04ca25",
   "metadata": {},
   "outputs": [
    {
     "name": "stdout",
     "output_type": "stream",
     "text": [
      "Congratulations, isu ! You just wrote 50 lines of code\n"
     ]
    }
   ],
   "source": [
    "print(\"Congratulations,\",user,\"! You just wrote\",lines,\"lines of code\")"
   ]
  },
  {
   "cell_type": "code",
   "execution_count": 38,
   "id": "822a09bf-d91d-4812-9dd6-2d19476562e8",
   "metadata": {},
   "outputs": [
    {
     "name": "stdout",
     "output_type": "stream",
     "text": [
      "Congratulations,isu! You just wrote 50lines of code\n"
     ]
    }
   ],
   "source": [
    "print(\"Congratulations,\" + user + \"! You just wrote \" +  str(lines) + \"lines of code\")"
   ]
  },
  {
   "cell_type": "code",
   "execution_count": 41,
   "id": "e4c9166a-0bf1-4f89-a39d-79d7aa2ba251",
   "metadata": {},
   "outputs": [
    {
     "data": {
      "text/plain": [
       "15"
      ]
     },
     "execution_count": 41,
     "metadata": {},
     "output_type": "execute_result"
    }
   ],
   "source": [
    "e='You are amazing'\n",
    "len(e)"
   ]
  },
  {
   "cell_type": "code",
   "execution_count": 42,
   "id": "c4f1790e-4b71-4c67-9e36-17a3237a01fe",
   "metadata": {},
   "outputs": [
    {
     "ename": "NameError",
     "evalue": "name 'e' is not defined",
     "output_type": "error",
     "traceback": [
      "\u001b[1;31m---------------------------------------------------------------------------\u001b[0m",
      "\u001b[1;31mNameError\u001b[0m                                 Traceback (most recent call last)",
      "Cell \u001b[1;32mIn[42], line 2\u001b[0m\n\u001b[0;32m      1\u001b[0m \u001b[38;5;28;01mdel\u001b[39;00m e\n\u001b[1;32m----> 2\u001b[0m \u001b[38;5;28mprint\u001b[39m(e)\n",
      "\u001b[1;31mNameError\u001b[0m: name 'e' is not defined"
     ]
    }
   ],
   "source": [
    "del e\n",
    "print(e)"
   ]
  },
  {
   "cell_type": "code",
   "execution_count": 43,
   "id": "4098a602-cf6d-4147-addf-06c582fa599a",
   "metadata": {},
   "outputs": [],
   "source": [
    "myString = \"Hey\""
   ]
  },
  {
   "cell_type": "code",
   "execution_count": 46,
   "id": "948d22a4-b123-4179-a15c-517501fe6847",
   "metadata": {},
   "outputs": [
    {
     "name": "stdout",
     "output_type": "stream",
     "text": [
      "e\n"
     ]
    }
   ],
   "source": [
    "print(myString[1])"
   ]
  },
  {
   "cell_type": "code",
   "execution_count": 47,
   "id": "1c63ca73-5273-4b1c-97ec-9e3b74d3a346",
   "metadata": {},
   "outputs": [
    {
     "name": "stdout",
     "output_type": "stream",
     "text": [
      "y\n"
     ]
    }
   ],
   "source": [
    "print(myString[-1])"
   ]
  },
  {
   "cell_type": "code",
   "execution_count": 48,
   "id": "b9279545-e340-4397-9f13-4880d879f334",
   "metadata": {},
   "outputs": [
    {
     "name": "stdout",
     "output_type": "stream",
     "text": [
      "H\n"
     ]
    }
   ],
   "source": [
    "print(myString[-3])"
   ]
  },
  {
   "cell_type": "code",
   "execution_count": 49,
   "id": "d55d2f63-b49e-41a9-af88-f7d2837c3226",
   "metadata": {},
   "outputs": [
    {
     "ename": "IndexError",
     "evalue": "string index out of range",
     "output_type": "error",
     "traceback": [
      "\u001b[1;31m---------------------------------------------------------------------------\u001b[0m",
      "\u001b[1;31mIndexError\u001b[0m                                Traceback (most recent call last)",
      "Cell \u001b[1;32mIn[49], line 1\u001b[0m\n\u001b[1;32m----> 1\u001b[0m \u001b[38;5;28mprint\u001b[39m(myString[\u001b[38;5;241m4\u001b[39m])\n",
      "\u001b[1;31mIndexError\u001b[0m: string index out of range"
     ]
    }
   ],
   "source": [
    "print(myString[4])"
   ]
  },
  {
   "cell_type": "code",
   "execution_count": 50,
   "id": "aab9ab1d-a512-4b2c-8f8c-dc1a15ef04c0",
   "metadata": {},
   "outputs": [
    {
     "ename": "TypeError",
     "evalue": "string indices must be integers, not 'float'",
     "output_type": "error",
     "traceback": [
      "\u001b[1;31m---------------------------------------------------------------------------\u001b[0m",
      "\u001b[1;31mTypeError\u001b[0m                                 Traceback (most recent call last)",
      "Cell \u001b[1;32mIn[50], line 1\u001b[0m\n\u001b[1;32m----> 1\u001b[0m \u001b[38;5;28mprint\u001b[39m(myString[\u001b[38;5;241m2.5\u001b[39m])\n",
      "\u001b[1;31mTypeError\u001b[0m: string indices must be integers, not 'float'"
     ]
    }
   ],
   "source": [
    "print(myString[2.5])"
   ]
  },
  {
   "cell_type": "code",
   "execution_count": 51,
   "id": "5d58d137-eaa7-4e52-bc2f-9ee61e76eea6",
   "metadata": {},
   "outputs": [
    {
     "ename": "TypeError",
     "evalue": "'str' object does not support item assignment",
     "output_type": "error",
     "traceback": [
      "\u001b[1;31m---------------------------------------------------------------------------\u001b[0m",
      "\u001b[1;31mTypeError\u001b[0m                                 Traceback (most recent call last)",
      "Cell \u001b[1;32mIn[51], line 2\u001b[0m\n\u001b[0;32m      1\u001b[0m myString \u001b[38;5;241m=\u001b[39m \u001b[38;5;124m\"\u001b[39m\u001b[38;5;124mHey\u001b[39m\u001b[38;5;124m\"\u001b[39m\n\u001b[1;32m----> 2\u001b[0m myString[\u001b[38;5;241m2\u001b[39m]\u001b[38;5;241m=\u001b[39m\u001b[38;5;124m'\u001b[39m\u001b[38;5;124mk\u001b[39m\u001b[38;5;124m'\u001b[39m\n",
      "\u001b[1;31mTypeError\u001b[0m: 'str' object does not support item assignment"
     ]
    }
   ],
   "source": [
    "myString = \"Hey\"\n",
    "myString[2]='k'"
   ]
  },
  {
   "cell_type": "code",
   "execution_count": 53,
   "id": "3c108e72-a9c4-4602-9897-ef7e5500b82b",
   "metadata": {},
   "outputs": [
    {
     "name": "stdout",
     "output_type": "stream",
     "text": [
      "e\n"
     ]
    }
   ],
   "source": [
    "print(myString[1:2])"
   ]
  },
  {
   "cell_type": "code",
   "execution_count": 54,
   "id": "45f2a54e-8185-48f6-9b40-281b3b2d4e1e",
   "metadata": {},
   "outputs": [
    {
     "data": {
      "text/plain": [
       "'Good night'"
      ]
     },
     "execution_count": 54,
     "metadata": {},
     "output_type": "execute_result"
    }
   ],
   "source": [
    "\"good night\".capitalize()"
   ]
  },
  {
   "cell_type": "code",
   "execution_count": 56,
   "id": "67380f02-ecad-4d3f-99e1-d56209883679",
   "metadata": {},
   "outputs": [
    {
     "data": {
      "text/plain": [
       "'good night.bye'"
      ]
     },
     "execution_count": 56,
     "metadata": {},
     "output_type": "execute_result"
    }
   ],
   "source": [
    "\"good night.bye\""
   ]
  },
  {
   "cell_type": "code",
   "execution_count": 57,
   "id": "b3ef1e83-5ce8-47ab-936d-447298ffb27d",
   "metadata": {},
   "outputs": [
    {
     "data": {
      "text/plain": [
       "'Good Night'"
      ]
     },
     "execution_count": 57,
     "metadata": {},
     "output_type": "execute_result"
    }
   ],
   "source": [
    "a=\"gOOd nIgHt\"\n",
    "a.title()"
   ]
  },
  {
   "cell_type": "code",
   "execution_count": 58,
   "id": "ba4a5708-73ad-4fe2-9415-199e831e6c1e",
   "metadata": {},
   "outputs": [
    {
     "data": {
      "text/plain": [
       "'Good Night'"
      ]
     },
     "execution_count": 58,
     "metadata": {},
     "output_type": "execute_result"
    }
   ],
   "source": [
    "\"gOOd nIgHt\".title()"
   ]
  },
  {
   "cell_type": "code",
   "execution_count": 60,
   "id": "6f95fae1-c917-44de-8901-a9d6afaaa3d6",
   "metadata": {},
   "outputs": [
    {
     "data": {
      "text/plain": [
       "'GOOD NIGHT'"
      ]
     },
     "execution_count": 60,
     "metadata": {},
     "output_type": "execute_result"
    }
   ],
   "source": [
    "a.upper()"
   ]
  },
  {
   "cell_type": "code",
   "execution_count": 61,
   "id": "2aa3e8ac-25f3-47d8-8d38-aecff0e786d0",
   "metadata": {},
   "outputs": [
    {
     "data": {
      "text/plain": [
       "'good night'"
      ]
     },
     "execution_count": 61,
     "metadata": {},
     "output_type": "execute_result"
    }
   ],
   "source": [
    "a.lower()"
   ]
  },
  {
   "cell_type": "code",
   "execution_count": 63,
   "id": "15d62759-885c-4b1a-8ba6-12cd8466209f",
   "metadata": {},
   "outputs": [
    {
     "data": {
      "text/plain": [
       "['hey', 'i', 'am', 'kitty']"
      ]
     },
     "execution_count": 63,
     "metadata": {},
     "output_type": "execute_result"
    }
   ],
   "source": [
    "st='hey i am kitty'\n",
    "st.split(' ')"
   ]
  },
  {
   "cell_type": "code",
   "execution_count": 64,
   "id": "a899f5ea-6a64-4f3a-a647-b95c6d0146f7",
   "metadata": {},
   "outputs": [
    {
     "data": {
      "text/plain": [
       "['Go sports! ', ' sports']"
      ]
     },
     "execution_count": 64,
     "metadata": {},
     "output_type": "execute_result"
    }
   ],
   "source": [
    "tweet='Go sports! # sports'\n",
    "tweet.split('#')"
   ]
  },
  {
   "cell_type": "code",
   "execution_count": 65,
   "id": "952f90bd-6ab8-4b5e-ae6c-5092a68e816c",
   "metadata": {},
   "outputs": [
    {
     "data": {
      "text/plain": [
       "['This', 'will', 'split', 'all', 'words', 'in', 'a', 'list']"
      ]
     },
     "execution_count": 65,
     "metadata": {},
     "output_type": "execute_result"
    }
   ],
   "source": [
    "\"This will split all words in a list\".split()"
   ]
  },
  {
   "cell_type": "code",
   "execution_count": 67,
   "id": "637a38ea-e649-4979-947c-16c0fefd2e2a",
   "metadata": {},
   "outputs": [
    {
     "data": {
      "text/plain": [
       "'This will split all words in a list'"
      ]
     },
     "execution_count": 67,
     "metadata": {},
     "output_type": "execute_result"
    }
   ],
   "source": [
    "' '.join(['This', 'will', 'split', 'all', 'words', 'in', 'a', 'list'])"
   ]
  },
  {
   "cell_type": "code",
   "execution_count": 68,
   "id": "97bb9adb-d3b6-47f3-838d-dbccaa402658",
   "metadata": {},
   "outputs": [
    {
     "data": {
      "text/plain": [
       "5"
      ]
     },
     "execution_count": 68,
     "metadata": {},
     "output_type": "execute_result"
    }
   ],
   "source": [
    "\"GOOD EVENING\".find(\"E\")"
   ]
  },
  {
   "cell_type": "code",
   "execution_count": 69,
   "id": "ff0ef55e-1acb-407c-8d10-7f8fa13ef669",
   "metadata": {},
   "outputs": [
    {
     "data": {
      "text/plain": [
       "2"
      ]
     },
     "execution_count": 69,
     "metadata": {},
     "output_type": "execute_result"
    }
   ],
   "source": [
    "\"GOOD EVENING\".count(\"N\")"
   ]
  },
  {
   "cell_type": "code",
   "execution_count": 70,
   "id": "8d0f53d0-cdd7-4366-80f2-fb8df208ebcf",
   "metadata": {},
   "outputs": [],
   "source": [
    "s1=\"Good evening\"\n",
    "s2=s1.replace(\"Good\",\"Bad\")"
   ]
  },
  {
   "cell_type": "code",
   "execution_count": 74,
   "id": "f805f8cc-722a-48d6-a50a-a7af4b799424",
   "metadata": {},
   "outputs": [
    {
     "name": "stdout",
     "output_type": "stream",
     "text": [
      "True\n",
      "False\n",
      "False\n",
      "False\n",
      "False\n",
      "True\n",
      "False\n",
      "False\n",
      "False\n"
     ]
    }
   ],
   "source": [
    "my_str='kitty234'\n",
    "\n",
    "print(my_str.isalnum())\n",
    "print(my_str.isalpha())\n",
    "print(my_str.isdigit())\n",
    "print(my_str.istitle())\n",
    "print(my_str.isupper())\n",
    "print(my_str.islower())\n",
    "print(my_str.isspace())\n",
    "print(my_str.endswith('s'))\n",
    "print(my_str.startswith('S'))"
   ]
  }
 ],
 "metadata": {
  "kernelspec": {
   "display_name": "Python 3 (ipykernel)",
   "language": "python",
   "name": "python3"
  },
  "language_info": {
   "codemirror_mode": {
    "name": "ipython",
    "version": 3
   },
   "file_extension": ".py",
   "mimetype": "text/x-python",
   "name": "python",
   "nbconvert_exporter": "python",
   "pygments_lexer": "ipython3",
   "version": "3.11.7"
  }
 },
 "nbformat": 4,
 "nbformat_minor": 5
}
