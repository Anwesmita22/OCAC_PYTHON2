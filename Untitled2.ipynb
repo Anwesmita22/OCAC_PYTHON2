{
 "cells": [
  {
   "cell_type": "code",
   "execution_count": 1,
   "id": "ec943700-0ba3-4f8f-a6d7-439137c29b43",
   "metadata": {},
   "outputs": [
    {
     "data": {
      "text/plain": [
       "'ANWESMITA345'"
      ]
     },
     "execution_count": 1,
     "metadata": {},
     "output_type": "execute_result"
    }
   ],
   "source": [
    "A =\"ANWESMITA\"\n",
    "B =\"345\"\n",
    "A+B"
   ]
  },
  {
   "cell_type": "code",
   "execution_count": 2,
   "id": "b7aaea49-8c90-48f9-b898-c59802ae70fb",
   "metadata": {},
   "outputs": [
    {
     "name": "stdout",
     "output_type": "stream",
     "text": [
      "ANWESMITA345\n"
     ]
    }
   ],
   "source": [
    "print(A+B)"
   ]
  },
  {
   "cell_type": "code",
   "execution_count": 3,
   "id": "0b076765-7719-4cce-a053-0d81e58fd9bd",
   "metadata": {},
   "outputs": [
    {
     "data": {
      "text/plain": [
       "12"
      ]
     },
     "execution_count": 3,
     "metadata": {},
     "output_type": "execute_result"
    }
   ],
   "source": [
    "len(A+B)"
   ]
  },
  {
   "cell_type": "code",
   "execution_count": 5,
   "id": "6af3f1c6-cf1b-4c47-8554-8086c09fb994",
   "metadata": {},
   "outputs": [
    {
     "data": {
      "text/plain": [
       "3.9"
      ]
     },
     "execution_count": 5,
     "metadata": {},
     "output_type": "execute_result"
    }
   ],
   "source": [
    "B =3.9\n",
    "C =False\n",
    "B+C"
   ]
  },
  {
   "cell_type": "code",
   "execution_count": 1,
   "id": "9899a047-1705-4c87-a1df-127a0569ff05",
   "metadata": {},
   "outputs": [
    {
     "data": {
      "text/plain": [
       "'VTRSBB'"
      ]
     },
     "execution_count": 1,
     "metadata": {},
     "output_type": "execute_result"
    }
   ],
   "source": [
    "Z = \"BBSRTV\"\n",
    "Z [: : -1]"
   ]
  },
  {
   "cell_type": "code",
   "execution_count": 2,
   "id": "d5493cc2-5c7f-4701-86a6-79f91cb7c4b5",
   "metadata": {},
   "outputs": [
    {
     "data": {
      "text/plain": [
       "'BBSRT'"
      ]
     },
     "execution_count": 2,
     "metadata": {},
     "output_type": "execute_result"
    }
   ],
   "source": [
    "Z[ : -1]"
   ]
  },
  {
   "cell_type": "code",
   "execution_count": 4,
   "id": "e2233965-49ff-46e7-a611-8f33c2b99087",
   "metadata": {},
   "outputs": [
    {
     "data": {
      "text/plain": [
       "'V'"
      ]
     },
     "execution_count": 4,
     "metadata": {},
     "output_type": "execute_result"
    }
   ],
   "source": [
    "Z[-1:]"
   ]
  },
  {
   "cell_type": "code",
   "execution_count": 5,
   "id": "622b9284-03c9-4d3c-9ed5-1f421357a5c3",
   "metadata": {},
   "outputs": [
    {
     "data": {
      "text/plain": [
       "'BBSRTV'"
      ]
     },
     "execution_count": 5,
     "metadata": {},
     "output_type": "execute_result"
    }
   ],
   "source": [
    "Z[0:7:1]"
   ]
  },
  {
   "cell_type": "code",
   "execution_count": 9,
   "id": "1eeb9e76-7a8a-472e-804c-48ce943e937b",
   "metadata": {},
   "outputs": [
    {
     "data": {
      "text/plain": [
       "''"
      ]
     },
     "execution_count": 9,
     "metadata": {},
     "output_type": "execute_result"
    }
   ],
   "source": [
    "Z[0:6:-1]"
   ]
  },
  {
   "cell_type": "code",
   "execution_count": 5,
   "id": "aaef7241-a182-46ff-bd00-7e23208d4a22",
   "metadata": {},
   "outputs": [
    {
     "data": {
      "text/plain": [
       "[1, 2, 'KITTY', [675, 'AKI', 5]]"
      ]
     },
     "execution_count": 5,
     "metadata": {},
     "output_type": "execute_result"
    }
   ],
   "source": [
    "A = [1,2,\"KITTY\",[675,\"AKI\",5]]\n",
    "A"
   ]
  },
  {
   "cell_type": "code",
   "execution_count": 3,
   "id": "74c941ce-b86a-4943-b360-ff8ae56816db",
   "metadata": {},
   "outputs": [
    {
     "data": {
      "text/plain": [
       "list"
      ]
     },
     "execution_count": 3,
     "metadata": {},
     "output_type": "execute_result"
    }
   ],
   "source": [
    "type(A)"
   ]
  },
  {
   "cell_type": "code",
   "execution_count": 4,
   "id": "daffabdd-a720-4bd2-8ac6-ec5470c6aae2",
   "metadata": {},
   "outputs": [
    {
     "data": {
      "text/plain": [
       "[]"
      ]
     },
     "execution_count": 4,
     "metadata": {},
     "output_type": "execute_result"
    }
   ],
   "source": [
    "b=list()\n",
    "b"
   ]
  },
  {
   "cell_type": "code",
   "execution_count": 7,
   "id": "07e9d1a9-114e-4f7d-a382-ae4bb2459fa0",
   "metadata": {},
   "outputs": [
    {
     "data": {
      "text/plain": [
       "list"
      ]
     },
     "execution_count": 7,
     "metadata": {},
     "output_type": "execute_result"
    }
   ],
   "source": [
    "type(b)"
   ]
  },
  {
   "cell_type": "code",
   "execution_count": 10,
   "id": "1056d633-fd82-43f3-a6f7-c4c7f955b764",
   "metadata": {},
   "outputs": [
    {
     "data": {
      "text/plain": [
       "'hello'"
      ]
     },
     "execution_count": 10,
     "metadata": {},
     "output_type": "execute_result"
    }
   ],
   "source": [
    "nest=[1,2,[3,4],[5,[100,200,['hello'],23,11],1,7]]\n",
    "nest[3][1][2][0]"
   ]
  },
  {
   "cell_type": "code",
   "execution_count": null,
   "id": "19789f7e-fdaa-497e-ab30-490aca0e1dad",
   "metadata": {},
   "outputs": [],
   "source": []
  }
 ],
 "metadata": {
  "kernelspec": {
   "display_name": "Python 3 (ipykernel)",
   "language": "python",
   "name": "python3"
  },
  "language_info": {
   "codemirror_mode": {
    "name": "ipython",
    "version": 3
   },
   "file_extension": ".py",
   "mimetype": "text/x-python",
   "name": "python",
   "nbconvert_exporter": "python",
   "pygments_lexer": "ipython3",
   "version": "3.11.7"
  }
 },
 "nbformat": 4,
 "nbformat_minor": 5
}
